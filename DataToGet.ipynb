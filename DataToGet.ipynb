{
 "cells": [
  {
   "cell_type": "code",
   "execution_count": 167,
   "metadata": {},
   "outputs": [
    {
     "name": "stdout",
     "output_type": "stream",
     "text": [
      "2019-01-05 16:00:00\n"
     ]
    }
   ],
   "source": [
    "import pandas as pd\n",
    "import csv\n",
    "import random\n",
    "import time\n",
    "from datetime import datetime\n",
    "import pandas as pd\n",
    "import csv\n",
    "\n",
    "record = []\n",
    "doctor = 2\n",
    "\n",
    "d = datetime(2019,1,5,16)\n",
    "print(d)\n",
    "date = []\n",
    "date.append(d)\n",
    "#print(date[0])\n",
    "for i in range(1,8):\n",
    "    #print(i)\n",
    "    #time_period = random.randint(7,12)\n",
    "    time_period = random.randint(10,17)\n",
    "    #time_period = random.randint(5,10)\n",
    "    #time_period = random.randint(8,15)\n",
    "    wait_time = time_period\n",
    "    time_period = str(time_period)+\"T\"\n",
    "    #print(time_period)\n",
    "    time = pd.date_range(start=date[i-1], periods=2, freq=time_period)\n",
    "    #print(time[1])\n",
    "    date.append(time[1])\n",
    "    disease = random.randint(1,10)\n",
    "    record.append([time[1], doctor, disease, wait_time]) \n",
    "\n",
    "#df = pd.DataFrame(record, columns=[\"Time\",\"Doctor\",\"Disease\",\"WaitTime\"])\n",
    "df = pd.DataFrame(record)\n",
    "df\n",
    "df.to_csv(\"./dataCleaned.csv\", mode='a', index=False, header=False)\n",
    "#df.to_csv(\"./dataCleaned.csv\", index=False)"
   ]
  },
  {
   "cell_type": "code",
   "execution_count": null,
   "metadata": {},
   "outputs": [],
   "source": []
  },
  {
   "cell_type": "code",
   "execution_count": null,
   "metadata": {},
   "outputs": [],
   "source": []
  },
  {
   "cell_type": "code",
   "execution_count": null,
   "metadata": {},
   "outputs": [],
   "source": []
  }
 ],
 "metadata": {
  "kernelspec": {
   "display_name": "Python 3",
   "language": "python",
   "name": "python3"
  },
  "language_info": {
   "codemirror_mode": {
    "name": "ipython",
    "version": 3
   },
   "file_extension": ".py",
   "mimetype": "text/x-python",
   "name": "python",
   "nbconvert_exporter": "python",
   "pygments_lexer": "ipython3",
   "version": "3.7.6"
  }
 },
 "nbformat": 4,
 "nbformat_minor": 4
}
